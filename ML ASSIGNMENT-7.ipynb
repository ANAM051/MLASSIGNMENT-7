{
 "cells": [
  {
   "cell_type": "markdown",
   "id": "39285366",
   "metadata": {},
   "source": [
    "1. What is the definition of a target function? In the sense of a real-life example, express the target\n",
    "function. How is a target function&#39;s fitness assessed?\n",
    "2. What are predictive models, and how do they work? What are descriptive types, and how do you\n",
    "use them? Examples of both types of models should be provided. Distinguish between these two\n",
    "forms of models.\n",
    "3. Describe the method of assessing a classification model&#39;s efficiency in detail. Describe the various\n",
    "measurement parameters.\n",
    "4.\n",
    "i. In the sense of machine learning models, what is underfitting? What is the most common\n",
    "reason for underfitting?\n",
    "ii. What does it mean to overfit? When is it going to happen?\n",
    "iii. In the sense of model fitting, explain the bias-variance trade-off.\n",
    "5. Is it possible to boost the efficiency of a learning model? If so, please clarify how.\n",
    "6. How would you rate an unsupervised learning model&#39;s success? What are the most common\n",
    "success indicators for an unsupervised learning model?\n",
    "7. Is it possible to use a classification model for numerical data or a regression model for categorical\n",
    "data with a classification model? Explain your answer.\n",
    "8. Describe the predictive modeling method for numerical values. What distinguishes it from\n",
    "categorical predictive modeling?\n",
    "9. The following data were collected when using a classification model to predict the malignancy of a\n",
    "group of patients&#39; tumors:\n",
    "i. Accurate estimates – 15 cancerous, 75 benign\n",
    "ii. Wrong predictions – 3 cancerous, 7 benign\n",
    "Determine the model&#39;s error rate, Kappa value, sensitivity, precision, and F-measure.\n",
    "10. Make quick notes on:\n",
    "1. The process of holding out\n",
    "2. Cross-validation by tenfold\n",
    "3. Adjusting the parameters\n",
    "11. Define the following terms:\n",
    "1. Purity vs. Silhouette width\n",
    "2. Boosting vs. Bagging\n",
    "3. The eager learner vs. the lazy learner"
   ]
  },
  {
   "cell_type": "markdown",
   "id": "cfafa6c4",
   "metadata": {},
   "source": [
    "1.Target function maps the input with the output function for example, in the case of classification problem input is image with numbers and output is (0,1,2,3,4).We can measure the functions fitness by how well input function maps the output and by using loss function i.e, mean squared error."
   ]
  },
  {
   "cell_type": "markdown",
   "id": "71cf23b9",
   "metadata": {},
   "source": [
    "2.Predictive models predict the future events by analyzing future and past events.Predictive models uses statistical methods and machine learning to predict future events.Example of descriptive model is clustering where all the like things came into a similar group."
   ]
  },
  {
   "cell_type": "markdown",
   "id": "5c78f199",
   "metadata": {},
   "source": [
    "3.Classification methods are machine learning algorithm that predicts categorical things means whether the email is a spam or not.Measurement parameters for classification method is:\n",
    "Accuracy\n",
    "Confusion matrix\n",
    "F1 score"
   ]
  },
  {
   "cell_type": "markdown",
   "id": "ced4622c",
   "metadata": {},
   "source": [
    "4.A model is underfit if that model do not able to capture the patterns of the data.Reasons for underfitting of the data is model is not very complex, training dataset is very low, "
   ]
  },
  {
   "cell_type": "markdown",
   "id": "e660e5fa",
   "metadata": {},
   "source": [
    "5.yes,we can boost the efficiency of a model by choosing right algorithm,choice of quantity and quality of the dataset,perform feature selection. "
   ]
  },
  {
   "cell_type": "markdown",
   "id": "9382c19c",
   "metadata": {},
   "source": [
    "6.Unsupervised learning is a type of machine learning that does not use any labels or targets to guide the learning process. It aims to discover hidden patterns or structures in the data, such as clusters, anomalies, or latent factors.\n",
    "silhouette coefficient measures how well each data point fits into its assigned cluster, based on the average distance to other points in the same cluster and the nearest cluster."
   ]
  },
  {
   "cell_type": "markdown",
   "id": "c98231f7",
   "metadata": {},
   "source": [
    "7.For numerical data, regression models can use the values directly, but classification models need to transform the values into discrete categories. This can be done by using techniques such as binning, discretization, or clustering. For example, if you want to classify the income level of a person based on their age, you can divide the age into bins such as [0-20], [21-40], [41-60], and [61+], and assign each bin a label such as low, medium, high, and very high.\n",
    "\n",
    "For categorical data, classification models can use the values directly, but regression models need to transform the values into numerical representations. This can be done by using techniques such as one-hot encoding, label encoding, or feature hashing. For example, if you want to predict the price of a house based on its color, you can assign each color a numerical value such as red = 1, blue = 2, green = 3, etc., or create dummy variables for each color such as red = [1, 0, 0], blue = [0, 1, 0], green = [0, 0, 1], etc.\n",
    "\n",
    "Therefore, it is possible to use a classification model for numerical data or a regression model for categorical data, but you need to apply the appropriate preprocessing techniques to convert the data into a suitable format for the model."
   ]
  },
  {
   "cell_type": "markdown",
   "id": "7dd6cc1d",
   "metadata": {},
   "source": [
    "8.Predictive modeling is the process of creating a model to make predictions based on past data. \n",
    "Predictive modelling for numerical values is regression and predictive modelling for categorical values is classification."
   ]
  },
  {
   "cell_type": "markdown",
   "id": "d26dd48d",
   "metadata": {},
   "source": []
  }
 ],
 "metadata": {
  "kernelspec": {
   "display_name": "Python 3 (ipykernel)",
   "language": "python",
   "name": "python3"
  },
  "language_info": {
   "codemirror_mode": {
    "name": "ipython",
    "version": 3
   },
   "file_extension": ".py",
   "mimetype": "text/x-python",
   "name": "python",
   "nbconvert_exporter": "python",
   "pygments_lexer": "ipython3",
   "version": "3.9.12"
  }
 },
 "nbformat": 4,
 "nbformat_minor": 5
}
